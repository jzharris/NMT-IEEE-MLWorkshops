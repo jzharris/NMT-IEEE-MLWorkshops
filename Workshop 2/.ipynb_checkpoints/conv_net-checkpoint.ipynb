{
 "cells": [
  {
   "cell_type": "markdown",
   "metadata": {},
   "source": [
    "## Import Keras and the dataset and Network models\n",
    "\n",
    "Keras is a top-level library we will use to interface with TensorFlow. Keras will take care of many things that we usually have to do by hand in TF, and it is easier to understand and use."
   ]
  },
  {
   "cell_type": "code",
   "execution_count": 8,
   "metadata": {},
   "outputs": [],
   "source": [
    "import keras\n",
    "from keras.datasets import mnist\n",
    "from keras.models import Sequential\n",
    "from keras.layers import Input, Dense, Dropout, Flatten\n",
    "from keras.layers import Conv2D, MaxPooling2D\n",
    "from keras.callbacks import ModelCheckpoint, TensorBoard\n",
    "from keras import backend as K\n",
    "\n",
    "import matplotlib.pyplot as plt"
   ]
  },
  {
   "cell_type": "markdown",
   "metadata": {},
   "source": [
    "## Import TensorFlow and tools to save the network weights\n",
    "\n",
    "We still need to import TensorFlow. We will be using two built-in functions in TensorFlow to \"freeze\", or save, our \"graph\". These are the trained weights that our algorithm will produce. We will save them so we only have to save once!"
   ]
  },
  {
   "cell_type": "code",
   "execution_count": 9,
   "metadata": {},
   "outputs": [],
   "source": [
    "import tensorflow as tf\n",
    "from tensorflow.python.tools import freeze_graph\n",
    "from tensorflow.python.tools import optimize_for_inference_lib"
   ]
  },
  {
   "cell_type": "markdown",
   "metadata": {},
   "source": [
    "## Load data and display samples function\n",
    "\n",
    "This function takes the common mnist dataset and grabs a \"training\" and \"test\" dataset from it. Each dataset consists of x = 28x28 pixel images and y = the numbers they represent.\n",
    "\n",
    "The pixel values are converted from standard pixel values (0 to 255) to fractions (0 to 1) for easier computations. The number values are put into a \"one-hot encoded\" array.\n",
    "\n",
    "Ex: A \"one-hot encoded\" array for the number \"1\" will look like this: [0 1 0 0 0 0 0 0 0 0]\n",
    "\n",
    "Let's also display some MNIST images to see what we are working with..."
   ]
  },
  {
   "cell_type": "code",
   "execution_count": 10,
   "metadata": {},
   "outputs": [],
   "source": [
    "def load_data():\n",
    "    (x_train, y_train), (x_test, y_test) = mnist.load_data()\n",
    "    \n",
    "    # plot 4 images as gray scale\n",
    "    plt.subplot(221)\n",
    "    plt.imshow(x_train[0], cmap=plt.get_cmap('gray'))\n",
    "    plt.subplot(222)\n",
    "    plt.imshow(x_train[1], cmap=plt.get_cmap('gray'))\n",
    "    plt.subplot(223)\n",
    "    plt.imshow(x_train[2], cmap=plt.get_cmap('gray'))\n",
    "    plt.subplot(224)\n",
    "    plt.imshow(x_train[3], cmap=plt.get_cmap('gray'))\n",
    "    # show the plot\n",
    "    plt.show()\n",
    "    \n",
    "    x_train = x_train.reshape(x_train.shape[0], 28, 28, 1)\n",
    "    x_test = x_test.reshape(x_test.shape[0], 28, 28, 1)\n",
    "    x_train = x_train.astype('float32')\n",
    "    x_test = x_test.astype('float32')\n",
    "    x_train /= 255\n",
    "    x_test /= 255\n",
    "    y_train = keras.utils.to_categorical(y_train, 10)\n",
    "    y_test = keras.utils.to_categorical(y_test, 10)\n",
    "    return x_train, y_train, x_test, y_test"
   ]
  },
  {
   "cell_type": "markdown",
   "metadata": {},
   "source": [
    "## Build model function\n",
    "\n",
    "This is our network! We \"stack\" layers on top of one another just like lasagna. We enable this in Keras by creating a \"Sequential\" type model. To add a layer, we call the .add method. This method takes in one of the layer types we imported. We will use two main layers: Convolutional and MaxPooling2D.\n",
    "\n",
    "Convolutional layers are layers that train a filter to look at the input image.\n",
    "\n",
    "MaxPooling2D layers simply take the maximum output of a certain number of pixels and remove the rest. This is a good way of \"abstracting\" the image, and simplifying the output for the next Convolutional Layer to analyze. The output would be similar if you look at the original image through a foggy lense.\n",
    "\n",
    "Layer 1: Convolutional layer - parameters are standard for image filters\n",
    "\t\n",
    "\tfilters:\t64 \t(neurons in the layer)\n",
    "\tkernel_size:\t3\t(how many pixels to look at)\n",
    "\tstrides:\t1\t(how many pixels to move once done analyzing)\n",
    "\tpadding:\t'same'\t(automatically pad)\n",
    "\tactivation:\t'relu'\t(negative values set to 0)\n",
    "\tinput_shape:\t28x28x1\t(analyzes 1 28x28 pixel image at a time)"
   ]
  },
  {
   "cell_type": "code",
   "execution_count": 11,
   "metadata": {},
   "outputs": [],
   "source": [
    "def build_model():\n",
    "    model = Sequential()\n",
    "    model.add(Conv2D(filters=64, kernel_size=3, strides=1, \\\n",
    "            padding='same', activation='relu', \\\n",
    "            input_shape=[28, 28, 1]))\n",
    "    # 28*28*64\n",
    "    model.add(MaxPooling2D(pool_size=2, strides=2, padding='same'))\n",
    "    # 14*14*64\n",
    "\n",
    "    model.add(Conv2D(filters=128, kernel_size=3, strides=1, \\\n",
    "            padding='same', activation='relu'))\n",
    "    # 14*14*128\n",
    "    model.add(MaxPooling2D(pool_size=2, strides=2, padding='same'))\n",
    "    # 7*7*128\n",
    "\n",
    "    model.add(Conv2D(filters=256, kernel_size=3, strides=1, \\\n",
    "            padding='same', activation='relu'))\n",
    "    # 7*7*256\n",
    "    model.add(MaxPooling2D(pool_size=2, strides=2, padding='same'))\n",
    "    # 4*4*256\n",
    "\n",
    "    model.add(Flatten())\n",
    "    model.add(Dense(1024, activation='relu'))\n",
    "    #model.add(Dropout(0.5))\n",
    "    model.add(Dense(10, activation='softmax'))\n",
    "    return model"
   ]
  },
  {
   "cell_type": "markdown",
   "metadata": {},
   "source": [
    "## Train function\n",
    "\n",
    "Keras function .compile takes a model that we passed it (the ie the network we built up above) and compiles it. This gets it ready to train.\n",
    "\tloss:\t\tcategorical_crossentropy\t(loss function for our network)\n",
    "\toptimizer:\tadadelta\t\t\t(how we will adjust our weights)\n",
    "\tmetrics:\t'accuracy'\t\t\t(what we want to measure progress by)\n",
    "\n",
    "Then we call .fit. This runs our model, with the specified batch size, epochs, and training/test data. It calculates the accuracy after each batch, updates the weights, runs the next batch, and then repeats this process for the number of epochs specified."
   ]
  },
  {
   "cell_type": "code",
   "execution_count": 12,
   "metadata": {},
   "outputs": [],
   "source": [
    "def tensorboard():\n",
    "    # starting tensorboard: tensorboard --logdir=run1:logs/ --port 6006\n",
    "    if not path.exists('logs'):\n",
    "        os.mkdir('logs')\n",
    "    print('--- enabling TensorBoard')\n",
    "    return TensorBoard(log_dir='logs', histogram_freq=0, write_graph=True, write_images=True)\n",
    "\n",
    "\n",
    "def train(model, x_train, y_train, x_test, y_test):\n",
    "    model.compile(loss=keras.losses.categorical_crossentropy, \\\n",
    "                  optimizer=keras.optimizers.Adadelta(), \\\n",
    "                  metrics=['accuracy'])\n",
    "\n",
    "    model.fit(x_train, y_train, \\\n",
    "              batch_size=BATCH_SIZE, \\\n",
    "              epochs=EPOCHS, \\\n",
    "              verbose=1, \\\n",
    "              validation_data=(x_test, y_test), \\\n",
    "              callbacks=[tensorboard()])"
   ]
  },
  {
   "cell_type": "markdown",
   "metadata": {},
   "source": [
    "## Export function\n",
    "\n",
    "This function saves the weights of our model once it has been trained into a file that TensorFlow can reuse in another program. The catch is that the network layers and parameters in those layers must be the same, otherwise TensorFlow wouldn't know which weights go where."
   ]
  },
  {
   "cell_type": "code",
   "execution_count": 13,
   "metadata": {},
   "outputs": [],
   "source": [
    "def export_model(saver, model, input_node_names, output_node_name):\n",
    "    saver.save(K.get_session(), 'out/' + MODEL_NAME + '.chkp')\n",
    "    \n",
    "    tf.train.write_graph(K.get_session().graph_def, 'out', \\\n",
    "        MODEL_NAME + '_graph.pbtxt')\n",
    "\n",
    "    freeze_graph.freeze_graph('out/' + MODEL_NAME + '_graph.pbtxt', None, \\\n",
    "        False, 'out/' + MODEL_NAME + '.chkp', output_node_name, \\\n",
    "        \"save/restore_all\", \"save/Const:0\", \\\n",
    "        'out/frozen_' + MODEL_NAME + '.pb', True, \"\")\n",
    "\n",
    "    input_graph_def = tf.GraphDef()\n",
    "    with tf.gfile.Open('out/frozen_' + MODEL_NAME + '.pb', \"rb\") as f:\n",
    "        input_graph_def.ParseFromString(f.read())\n",
    "\n",
    "    output_graph_def = optimize_for_inference_lib.optimize_for_inference(\n",
    "            input_graph_def, input_node_names, [output_node_name],\n",
    "            tf.float32.as_datatype_enum)\n",
    "\n",
    "    with tf.gfile.FastGFile('out/opt_' + MODEL_NAME + '.pb', \"wb\") as f:\n",
    "        f.write(output_graph_def.SerializeToString())\n",
    "\n",
    "    print(\"graph saved!\")"
   ]
  },
  {
   "cell_type": "markdown",
   "metadata": {},
   "source": [
    "## Running our program\n",
    "\n",
    "Now, let's run our program using these functions!\n",
    "\tOur model name will be 'mnist_convnet'\n",
    "\tOur epochs will be 1 (usually this number is between 10 and 50)\n",
    "\tOur batch-size will be 128 (takes 128 images at a time)"
   ]
  },
  {
   "cell_type": "code",
   "execution_count": 14,
   "metadata": {},
   "outputs": [
    {
     "data": {
      "image/png": "[encoded data removed]",
      "text/plain": [
       "<matplotlib.figure.Figure at 0x11e0e3f98>"
      ]
     },
     "metadata": {},
     "output_type": "display_data"
    },
    {
     "name": "stdout",
     "output_type": "stream",
     "text": [
      "--- enabling TensorBoard\n",
      "Train on 60000 samples, validate on 10000 samples\n",
      "Epoch 1/1\n",
      "60000/60000 [==============================] - 284s - loss: 0.2396 - acc: 0.9235 - val_loss: 0.0901 - val_acc: 0.9698\n",
      "INFO:tensorflow:Restoring parameters from out/mnist_convnet.chkp\n",
      "INFO:tensorflow:Froze 10 variables.\n",
      "Converted 10 variables to const ops.\n",
      "49 ops in the final graph.\n",
      "graph saved!\n"
     ]
    }
   ],
   "source": [
    "MODEL_NAME = 'mnist_convnet'\n",
    "EPOCHS = 1\n",
    "BATCH_SIZE = 128\n",
    "\n",
    "import os\n",
    "import os.path as path\n",
    "\n",
    "# create 'out' directory if not already created\n",
    "if not path.exists('out'):\n",
    "    os.mkdir('out')\n",
    "\n",
    "# load mnist dataset\n",
    "x_train, y_train, x_test, y_test = load_data()\n",
    "\n",
    "# build model\n",
    "model = build_model()\n",
    "\n",
    "# train model\n",
    "train(model, x_train, y_train, x_test, y_test)\n",
    "\n",
    "# export model and save weights\n",
    "export_model(tf.train.Saver(), model, [\"conv2d_1_input\"], \"dense_2/Softmax\")"
   ]
  },
  {
   "cell_type": "code",
   "execution_count": null,
   "metadata": {},
   "outputs": [],
   "source": []
  }
 ],
 "metadata": {
  "kernelspec": {
   "display_name": "tensorflow",
   "language": "python",
   "name": "tensorflow"
  },
  "language_info": {
   "codemirror_mode": {
    "name": "ipython",
    "version": 3
   },
   "file_extension": ".py",
   "mimetype": "text/x-python",
   "name": "python",
   "nbconvert_exporter": "python",
   "pygments_lexer": "ipython3",
   "version": "3.5.2"
  }
 },
 "nbformat": 4,
 "nbformat_minor": 1
}
